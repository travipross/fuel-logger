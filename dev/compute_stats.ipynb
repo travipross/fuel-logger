{
 "nbformat": 4,
 "nbformat_minor": 2,
 "metadata": {
  "language_info": {
   "name": "python",
   "codemirror_mode": {
    "name": "ipython",
    "version": 3
   }
  },
  "orig_nbformat": 2,
  "file_extension": ".py",
  "mimetype": "text/x-python",
  "name": "python",
  "npconvert_exporter": "python",
  "pygments_lexer": "ipython3",
  "version": 3
 },
 "cells": [
  {
   "cell_type": "code",
   "execution_count": null,
   "metadata": {},
   "outputs": [],
   "source": [
    "import pandas as pd \n",
    "\n",
    "in_path = \"/home/travipross/git/fuel-logger/dev/samples/civic_export_2020-03-31.csv\"\n",
    "\n",
    "pd.read_csv(in_file)"
   ]
  }
 ]
}